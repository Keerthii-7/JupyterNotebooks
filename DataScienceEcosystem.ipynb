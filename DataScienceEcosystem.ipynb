{
 "cells": [
  {
   "cell_type": "markdown",
   "id": "81e1ceac",
   "metadata": {},
   "source": [
    "# Data Science Tools and Ecosystem"
   ]
  },
  {
   "cell_type": "markdown",
   "id": "ae74a259",
   "metadata": {},
   "source": [
    "In this notebook, Data Science Tools and Ecosystem are summarized."
   ]
  },
  {
   "cell_type": "markdown",
   "id": "3e8c87e3",
   "metadata": {},
   "source": [
    "Some of the popular languages that Data Scientists use are:\n",
    "1 . Python\n",
    "2 . R\n",
    "3 . Scala"
   ]
  },
  {
   "cell_type": "markdown",
   "id": "d797e525",
   "metadata": {},
   "source": [
    "# Objectives:\n",
    "List popular languages for Data Science:\n",
    "--> python\n",
    "--> R\n",
    "--> Scala\n",
    "List popular libraries for Data Science:\n",
    "--> Pandas\n",
    "--> Numpy\n",
    "--> Matplotlib\n",
    "List of popular Data Science Tools:\n",
    "--> microsoft azure\n",
    "--> mySQL\n",
    "--> power BI\n"
   ]
  },
  {
   "cell_type": "markdown",
   "id": "bbe2733d",
   "metadata": {},
   "source": [
    "Some of the commonly used libraries used by Data Scientists include:\n",
    "1.Pandas\n",
    "2.Numpy\n",
    "3.Matplotlib"
   ]
  },
  {
   "cell_type": "markdown",
   "id": "bb159500",
   "metadata": {},
   "source": [
    "Data Science Tools:\n",
    "1.microsoft azure\n",
    "2.mySQL\n",
    "3.power BI"
   ]
  },
  {
   "cell_type": "markdown",
   "id": "ae9c15e1",
   "metadata": {},
   "source": [
    "Below are a few examples of evaluating arithmetic expressions in Python"
   ]
  },
  {
   "cell_type": "code",
   "execution_count": 1,
   "id": "bda85e8b",
   "metadata": {},
   "outputs": [
    {
     "data": {
      "text/plain": [
       "17"
      ]
     },
     "execution_count": 1,
     "metadata": {},
     "output_type": "execute_result"
    }
   ],
   "source": [
    "#his a simple arithmetic expression to mutiply then add integers\n",
    "(3*4)+5"
   ]
  },
  {
   "cell_type": "code",
   "execution_count": 5,
   "id": "43f810f9",
   "metadata": {},
   "outputs": [
    {
     "name": "stdout",
     "output_type": "stream",
     "text": [
      "3.3333333333333335\n"
     ]
    }
   ],
   "source": [
    "#This will convert 200 minutes to hours by diving by 60\n",
    "ans=200/60\n",
    "print(ans)"
   ]
  },
  {
   "cell_type": "markdown",
   "id": "a9c1d8b1",
   "metadata": {},
   "source": [
    "# Author : \n",
    "keerthi sankara"
   ]
  }
 ],
 "metadata": {
  "kernelspec": {
   "display_name": "Python 3 (ipykernel)",
   "language": "python",
   "name": "python3"
  },
  "language_info": {
   "codemirror_mode": {
    "name": "ipython",
    "version": 3
   },
   "file_extension": ".py",
   "mimetype": "text/x-python",
   "name": "python",
   "nbconvert_exporter": "python",
   "pygments_lexer": "ipython3",
   "version": "3.9.12"
  }
 },
 "nbformat": 4,
 "nbformat_minor": 5
}
